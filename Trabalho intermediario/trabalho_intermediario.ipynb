{
 "cells": [
  {
   "cell_type": "markdown",
   "metadata": {},
   "source": [
    "## Influência do investimento federal no ensino superior sobre a nota geral do ENADE (Exame Nacional de Desempenho dos Estudantes)"
   ]
  },
  {
   "cell_type": "markdown",
   "metadata": {},
   "source": [
    "Neste trabalho, analisamos se os investimentos em educação realizados pelo governo federal tem forte influência sobre o resultado geral na nota do ENADE.\n",
    "Essa análise foi feita entre os anos de 2004 e 2017."
   ]
  },
  {
   "cell_type": "code",
   "execution_count": 47,
   "metadata": {},
   "outputs": [],
   "source": [
    "import pandas as pd\n",
    "enade = pd.read_csv('nt_ger_describe_enade', encoding=\"ISO-8859-1\", sep=' ', dtype={})"
   ]
  },
  {
   "cell_type": "markdown",
   "metadata": {},
   "source": [
    "Os dados mostrados logo abaixo, foram extraidos da base de dados do ENADE,  que está  anexado nesse repositório: "
   ]
  },
  {
   "cell_type": "code",
   "execution_count": 48,
   "metadata": {},
   "outputs": [
    {
     "name": "stdout",
     "output_type": "stream",
     "text": [
      "     ano     count       mean  min        max\n",
      "0   2004  155402.0  29.628143  0.0  88.500000\n",
      "1   2005  306167.0  33.709877  0.0  93.699997\n",
      "2   2006  462980.0  32.409144  0.0  91.900000\n",
      "3   2007  215305.0  35.670821  0.0  93.699997\n",
      "4   2008  461032.0  31.976922  0.0  95.099998\n",
      "5   2009  760976.0  40.018042  0.0  97.700000\n",
      "6   2010  346541.0  38.935507  0.0  90.900000\n",
      "7   2011  302224.0  42.388671  0.0  93.200000\n",
      "8   2012  469556.0  38.019321  0.0  94.000000\n",
      "9   2013  168941.0  44.819209  0.0  92.400000\n",
      "10  2014  396713.0  44.343968  0.0  97.400000\n",
      "11  2015  448245.0  44.496038  0.0  95.500000\n",
      "12  2016  195764.0  47.151318  0.0  93.200000\n",
      "13  2017  449932.0  43.523969  0.0  98.100000\n"
     ]
    }
   ],
   "source": [
    "tabelaEnade = pd.DataFrame(enade, columns = ['ano', 'count', 'mean', 'min', 'max'])\n",
    "tabelaEnade = tabelaEnade.loc[(tabelaEnade['mean'].notnull())]\n",
    "tabelaEnade['mean'] = pd.to_numeric(tabelaEnade['mean'])\n",
    "print(tabelaEnade)"
   ]
  },
  {
   "cell_type": "code",
   "execution_count": 49,
   "metadata": {},
   "outputs": [],
   "source": [
    "import pandas as pd\n",
    "investimento = pd.read_csv('inv_educacao', sep=\" \")"
   ]
  },
  {
   "cell_type": "code",
   "execution_count": 50,
   "metadata": {},
   "outputs": [],
   "source": [
    "investimento = pd.DataFrame(investimento, columns=['ano','educacao_total','ensino_superior','proporcao','cr_total', 'cr_sup'])\n",
    "investimento['cr_sup'] = pd.to_numeric(investimento['cr_sup'])\n",
    "investimento['cr_total'] = pd.to_numeric(investimento['cr_total'])\n",
    "investimento['proporcao'] = pd.to_numeric(investimento['proporcao'])"
   ]
  },
  {
   "cell_type": "markdown",
   "metadata": {},
   "source": [
    "Resumo dos investimentos realizados pelo governo federal entre os anos de 2004 e 2017 na educação. Esses dados foram extraidos da base de dados LOA (Lei Orçamentária Anual)."
   ]
  },
  {
   "cell_type": "code",
   "execution_count": 51,
   "metadata": {},
   "outputs": [
    {
     "name": "stdout",
     "output_type": "stream",
     "text": [
      "     ano  educacao_total  ensino_superior  proporcao  cr_total  cr_sup\n",
      "0   2004    1.730314e+10     6.370188e+09      36.82     21.50    0.00\n",
      "1   2005    2.102257e+10     8.857250e+09      42.13     21.50   39.04\n",
      "2   2006    2.167108e+10     8.470484e+09      39.09      3.08   -4.37\n",
      "3   2007    2.758015e+10     1.043064e+10      37.82     27.27   23.14\n",
      "4   2008    3.171404e+10     1.117442e+10      35.23     14.99    7.13\n",
      "5   2009    4.052463e+10     1.128744e+10      27.85     27.78    1.01\n",
      "6   2010    5.090373e+10     1.543101e+10      30.31     25.61   36.71\n",
      "7   2011    6.370715e+10     1.829785e+10      28.72     25.15   18.58\n",
      "8   2012    7.428037e+10     2.125524e+10      28.61     16.60   16.16\n",
      "9   2013    8.128680e+10     2.294577e+10      28.23      9.43    7.95\n",
      "10  2014    9.449066e+10     2.712662e+10      28.71     16.24   18.22\n",
      "11  2015    1.033633e+11     3.127001e+10      30.25      9.39   15.27\n",
      "12  2016    9.978888e+10     3.084490e+10      30.91     -3.46   -1.36\n",
      "13  2017    1.075174e+11     3.294868e+10      30.64      7.74    6.82\n"
     ]
    }
   ],
   "source": [
    "print(investimento)"
   ]
  },
  {
   "cell_type": "code",
   "execution_count": 52,
   "metadata": {},
   "outputs": [
    {
     "name": "stderr",
     "output_type": "stream",
     "text": [
      "/home/vinicius/anaconda3/lib/python3.6/site-packages/ipykernel_launcher.py:2: SettingWithCopyWarning: \n",
      "A value is trying to be set on a copy of a slice from a DataFrame\n",
      "\n",
      "See the caveats in the documentation: http://pandas.pydata.org/pandas-docs/stable/indexing.html#indexing-view-versus-copy\n",
      "  \n"
     ]
    }
   ],
   "source": [
    "for i in range(1, len(investimento['cr_sup'])):\n",
    "    investimento['cr_sup'][i] = investimento['cr_sup'][i] + investimento['cr_sup'][i-1]"
   ]
  },
  {
   "cell_type": "code",
   "execution_count": 53,
   "metadata": {},
   "outputs": [
    {
     "data": {
      "text/plain": [
       "Text(0.5,1,'Taxa de investimento no ensino superior')"
      ]
     },
     "execution_count": 53,
     "metadata": {},
     "output_type": "execute_result"
    },
    {
     "data": {
      "image/png": "[encoded data removed]",
      "text/plain": [
       "<Figure size 432x288 with 1 Axes>"
      ]
     },
     "metadata": {},
     "output_type": "display_data"
    }
   ],
   "source": [
    "import matplotlib.pyplot as plt\n",
    "A = [2004, 2005, 2006, 2007, 2008, 2009, 2010, 2011, 2012, 2013, 2014, 2015, 2016, 2017]\n",
    "plt.plot(A, investimento['cr_sup'])\n",
    "plt.xlabel('ano')\n",
    "plt.ylabel('Taxa de investimento')\n",
    "plt.title('Taxa de investimento no ensino superior')"
   ]
  },
  {
   "cell_type": "code",
   "execution_count": 54,
   "metadata": {},
   "outputs": [
    {
     "data": {
      "text/plain": [
       "Text(0.5,1,'Nota média no ENADE')"
      ]
     },
     "execution_count": 54,
     "metadata": {},
     "output_type": "execute_result"
    },
    {
     "data": {
      "image/png": "[encoded data removed]",
      "text/plain": [
       "<Figure size 432x288 with 1 Axes>"
      ]
     },
     "metadata": {},
     "output_type": "display_data"
    }
   ],
   "source": [
    "plt.plot(A, tabelaEnade['mean'])\n",
    "plt.xlabel('ano')\n",
    "plt.title('Nota média no ENADE')"
   ]
  },
  {
   "cell_type": "code",
   "execution_count": 55,
   "metadata": {},
   "outputs": [
    {
     "data": {
      "text/plain": [
       "<BarContainer object of 14 artists>"
      ]
     },
     "execution_count": 55,
     "metadata": {},
     "output_type": "execute_result"
    },
    {
     "data": {
      "image/png": "[encoded data removed]",
      "text/plain": [
       "<Figure size 432x288 with 1 Axes>"
      ]
     },
     "metadata": {},
     "output_type": "display_data"
    }
   ],
   "source": [
    "plt.bar(A, investimento['ensino_superior'])\n",
    "plt.bar(A, investimento['educacao_total'], alpha=0.7)"
   ]
  },
  {
   "cell_type": "code",
   "execution_count": 56,
   "metadata": {},
   "outputs": [
    {
     "data": {
      "text/plain": [
       "<BarContainer object of 14 artists>"
      ]
     },
     "execution_count": 56,
     "metadata": {},
     "output_type": "execute_result"
    },
    {
     "data": {
      "image/png": "[encoded data removed]",
      "text/plain": [
       "<Figure size 432x288 with 1 Axes>"
      ]
     },
     "metadata": {},
     "output_type": "display_data"
    }
   ],
   "source": [
    "plt.bar(A, tabelaEnade['mean'])\n",
    "plt.bar(A, investimento['cr_sup'], alpha=0.7)"
   ]
  },
  {
   "cell_type": "markdown",
   "metadata": {},
   "source": [
    "É possível observar que tanto o investimento, quanto a médias das notas aumentaram ao longo dos anos. Portanto, entre todas as variáveis que influênciam a nota final do ENADE, é viavel induzir que o investimento na educação em geral influência o desempenho dos alunos do ensino superior."
   ]
  },
  {
   "cell_type": "code",
   "execution_count": null,
   "metadata": {},
   "outputs": [],
   "source": []
  }
 ],
 "metadata": {
  "kernelspec": {
   "display_name": "Python 3",
   "language": "python",
   "name": "python3"
  },
  "language_info": {
   "codemirror_mode": {
    "name": "ipython",
    "version": 3
   },
   "file_extension": ".py",
   "mimetype": "text/x-python",
   "name": "python",
   "nbconvert_exporter": "python",
   "pygments_lexer": "ipython3",
   "version": "3.6.5"
  }
 },
 "nbformat": 4,
 "nbformat_minor": 2
}
